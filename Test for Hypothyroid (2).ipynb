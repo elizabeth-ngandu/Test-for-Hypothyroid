{
 "cells": [
  {
   "cell_type": "markdown",
   "metadata": {
    "colab_type": "text",
    "id": "T1OK9UMKw8TN"
   },
   "source": [
    "**Defining the Question.**\n",
    "Nairobi hospital requires us to build a model to check if a patient tests positive or negative for hypothyroid"
   ]
  },
  {
   "cell_type": "markdown",
   "metadata": {
    "colab_type": "text",
    "id": "ibi6jIk9w9UK"
   },
   "source": [
    "##**a) Specifying the Question**\n",
    "\n",
    "Build a model that determines whether or not the patient's symptoms indicate that the patient has hypothyroid."
   ]
  },
  {
   "cell_type": "markdown",
   "metadata": {
    "colab_type": "text",
    "id": "0TUaMWPzw9YY"
   },
   "source": [
    "##**b) Defining the Metric for Success**\n",
    "\n",
    "Load and Analyze data. Normalize data as it has different units. Create random forest classifier model to depict accuracy.Challenge the model with other models and check accuracy change."
   ]
  },
  {
   "cell_type": "markdown",
   "metadata": {
    "colab_type": "text",
    "id": "N1yQq5Oqw9qk"
   },
   "source": [
    "##**c) Understanding the context**\n",
    "\n",
    "Nairobi Hospital conducted a clinical camp to test for hypothyroidism. The data collected focused on Thyroid patients. Use the healthcare datasets provided to accomplish the following:  \n",
    "\n",
    "Build a model that determines whether or not the patient's symptoms indicate that the patient has hypothyroid.\n",
    "\n",
    "**Part 1: Decision trees:**\n",
    "- For this section, you should build a model that makes the above prediction. You should not use individual decision trees, rather you should use at least 2 out of the 3 advanced models we have studied: Random forests, Ada boosted trees, and gradient boosted trees.\n",
    "- Try and optimize each of the 2 models, making sure to document how you've set up your hyperparameters.\n",
    "- Identify which of the 2 models you trust most, and use your model to determine which features are most impactful in influencing the prediction\n",
    "- Note that with decision trees, you don't need to do a lot of data cleaning. This will be very different with SVM.\n",
    "\n",
    "**Part 2: SVM:**\n",
    "\n",
    "- In this section, you may be required to clean the data a little bit so as to make sense of the features.\n",
    "\n",
    "- Document what transformation you've done on the data.\n",
    "\n",
    "- Apply Polynomial, linear and rbf kernel function to build your SVM model and then evaluate their performance and pick the kernel that performs the best. Remember to tune your parameters to improve the performance of your model. To make your life easier, make sure to visualize the models you've created. Use any two features to build the models for this step.\n",
    "\n",
    "Hint: You may want to use decision trees to give you the most preferable features you can use. but also keep in mind that those features might not be suitable for SVM. It might be a good idea to graph them first.\n",
    "\n",
    "-  After getting your best performing kernel, use this kernel together with your tuned parameters and repeat the prediction but this time using additional features. Compare the model you've just created with the 2-features version. "
   ]
  },
  {
   "cell_type": "markdown",
   "metadata": {
    "colab_type": "text",
    "id": "Ofw6NJymw-Bc"
   },
   "source": [
    "##**d) Recording the Experimental Design**\n",
    "\n",
    "(CRISP- DM) methodology\n",
    "\n",
    "Get the data\n",
    "\n",
    "understand the data\n",
    "\n",
    "Clean the data\n",
    "\n",
    "Explore the data\n",
    "\n",
    "Create models\n",
    "\n",
    "Challenge model\n",
    "\n",
    "Evaluate model perfomance"
   ]
  },
  {
   "cell_type": "markdown",
   "metadata": {
    "colab_type": "text",
    "id": "dB4oFEYoyytR"
   },
   "source": [
    "### Loading Libraries"
   ]
  },
  {
   "cell_type": "code",
   "execution_count": 116,
   "metadata": {
    "colab": {},
    "colab_type": "code",
    "id": "iFhR1ucuyU2d"
   },
   "outputs": [],
   "source": [
    "#Import pandas libraries\n",
    "import pandas as pd\n",
    "\n",
    "#Import numpy libraries\n",
    "import numpy as np\n",
    "\n",
    "import seaborn as sns\n",
    "import matplotlib.pyplot as plt\n",
    "%matplotlib inline\n",
    "\n",
    "\n",
    "#Import sklearn libraries\n",
    "from sklearn.impute import SimpleImputer\n",
    "from sklearn import metrics\n",
    "\n",
    "#  import classifier libraries\n",
    "from sklearn.ensemble import AdaBoostClassifier\n",
    "from sklearn.tree import DecisionTreeClassifier\n",
    "from sklearn.ensemble import GradientBoostingClassifier\n",
    "from sklearn.model_selection import train_test_split\n",
    "from sklearn.ensemble import RandomForestClassifier\n",
    "from sklearn.preprocessing import RobustScaler\n",
    "\n",
    "\n",
    "# Import Suport Vector Classifier module from svm library.\n",
    "from sklearn.svm import SVC,LinearSVC\n",
    "\n",
    "from sklearn.model_selection import train_test_split\n",
    "\n",
    "# Import scikit-learn metrics module\n",
    "from sklearn.metrics import  accuracy_score\n",
    "from sklearn.metrics import confusion_matrix\n",
    "\n",
    "#Import warnings filter libraries\n",
    "import warnings\n",
    "warnings.filterwarnings('ignore')"
   ]
  },
  {
   "cell_type": "markdown",
   "metadata": {
    "colab_type": "text",
    "id": "g9r8hNCVzDG3"
   },
   "source": [
    "### Load Dataset"
   ]
  },
  {
   "cell_type": "code",
   "execution_count": 117,
   "metadata": {
    "colab": {
     "base_uri": "https://localhost:8080/",
     "height": 34
    },
    "colab_type": "code",
    "id": "9DnOgqpS2q65",
    "outputId": "ffe3efd7-7eba-4950-d9ec-16dcd7a029b2"
   },
   "outputs": [
    {
     "data": {
      "text/plain": [
       "(3163, 26)"
      ]
     },
     "execution_count": 117,
     "metadata": {},
     "output_type": "execute_result"
    }
   ],
   "source": [
    "#Load the dataset\n",
    "df = pd.read_csv('hypothyroid.csv')\n",
    "\n",
    "# shape of the dataset\n",
    "df.shape"
   ]
  },
  {
   "cell_type": "code",
   "execution_count": 118,
   "metadata": {},
   "outputs": [
    {
     "data": {
      "text/html": [
       "<div>\n",
       "<style scoped>\n",
       "    .dataframe tbody tr th:only-of-type {\n",
       "        vertical-align: middle;\n",
       "    }\n",
       "\n",
       "    .dataframe tbody tr th {\n",
       "        vertical-align: top;\n",
       "    }\n",
       "\n",
       "    .dataframe thead th {\n",
       "        text-align: right;\n",
       "    }\n",
       "</style>\n",
       "<table border=\"1\" class=\"dataframe\">\n",
       "  <thead>\n",
       "    <tr style=\"text-align: right;\">\n",
       "      <th></th>\n",
       "      <th>status</th>\n",
       "      <th>age</th>\n",
       "      <th>sex</th>\n",
       "      <th>on_thyroxine</th>\n",
       "      <th>query_on_thyroxine</th>\n",
       "      <th>on_antithyroid_medication</th>\n",
       "      <th>thyroid_surgery</th>\n",
       "      <th>query_hypothyroid</th>\n",
       "      <th>query_hyperthyroid</th>\n",
       "      <th>pregnant</th>\n",
       "      <th>...</th>\n",
       "      <th>T3_measured</th>\n",
       "      <th>T3</th>\n",
       "      <th>TT4_measured</th>\n",
       "      <th>TT4</th>\n",
       "      <th>T4U_measured</th>\n",
       "      <th>T4U</th>\n",
       "      <th>FTI_measured</th>\n",
       "      <th>FTI</th>\n",
       "      <th>TBG_measured</th>\n",
       "      <th>TBG</th>\n",
       "    </tr>\n",
       "  </thead>\n",
       "  <tbody>\n",
       "    <tr>\n",
       "      <td>0</td>\n",
       "      <td>hypothyroid</td>\n",
       "      <td>72</td>\n",
       "      <td>M</td>\n",
       "      <td>f</td>\n",
       "      <td>f</td>\n",
       "      <td>f</td>\n",
       "      <td>f</td>\n",
       "      <td>f</td>\n",
       "      <td>f</td>\n",
       "      <td>f</td>\n",
       "      <td>...</td>\n",
       "      <td>y</td>\n",
       "      <td>0.60</td>\n",
       "      <td>y</td>\n",
       "      <td>15</td>\n",
       "      <td>y</td>\n",
       "      <td>1.48</td>\n",
       "      <td>y</td>\n",
       "      <td>10</td>\n",
       "      <td>n</td>\n",
       "      <td>?</td>\n",
       "    </tr>\n",
       "    <tr>\n",
       "      <td>1</td>\n",
       "      <td>hypothyroid</td>\n",
       "      <td>15</td>\n",
       "      <td>F</td>\n",
       "      <td>t</td>\n",
       "      <td>f</td>\n",
       "      <td>f</td>\n",
       "      <td>f</td>\n",
       "      <td>f</td>\n",
       "      <td>f</td>\n",
       "      <td>f</td>\n",
       "      <td>...</td>\n",
       "      <td>y</td>\n",
       "      <td>1.70</td>\n",
       "      <td>y</td>\n",
       "      <td>19</td>\n",
       "      <td>y</td>\n",
       "      <td>1.13</td>\n",
       "      <td>y</td>\n",
       "      <td>17</td>\n",
       "      <td>n</td>\n",
       "      <td>?</td>\n",
       "    </tr>\n",
       "    <tr>\n",
       "      <td>2</td>\n",
       "      <td>hypothyroid</td>\n",
       "      <td>24</td>\n",
       "      <td>M</td>\n",
       "      <td>f</td>\n",
       "      <td>f</td>\n",
       "      <td>f</td>\n",
       "      <td>f</td>\n",
       "      <td>f</td>\n",
       "      <td>f</td>\n",
       "      <td>f</td>\n",
       "      <td>...</td>\n",
       "      <td>y</td>\n",
       "      <td>0.20</td>\n",
       "      <td>y</td>\n",
       "      <td>4</td>\n",
       "      <td>y</td>\n",
       "      <td>1</td>\n",
       "      <td>y</td>\n",
       "      <td>0</td>\n",
       "      <td>n</td>\n",
       "      <td>?</td>\n",
       "    </tr>\n",
       "    <tr>\n",
       "      <td>3</td>\n",
       "      <td>hypothyroid</td>\n",
       "      <td>24</td>\n",
       "      <td>F</td>\n",
       "      <td>f</td>\n",
       "      <td>f</td>\n",
       "      <td>f</td>\n",
       "      <td>f</td>\n",
       "      <td>f</td>\n",
       "      <td>f</td>\n",
       "      <td>f</td>\n",
       "      <td>...</td>\n",
       "      <td>y</td>\n",
       "      <td>0.40</td>\n",
       "      <td>y</td>\n",
       "      <td>6</td>\n",
       "      <td>y</td>\n",
       "      <td>1.04</td>\n",
       "      <td>y</td>\n",
       "      <td>6</td>\n",
       "      <td>n</td>\n",
       "      <td>?</td>\n",
       "    </tr>\n",
       "    <tr>\n",
       "      <td>4</td>\n",
       "      <td>hypothyroid</td>\n",
       "      <td>77</td>\n",
       "      <td>M</td>\n",
       "      <td>f</td>\n",
       "      <td>f</td>\n",
       "      <td>f</td>\n",
       "      <td>f</td>\n",
       "      <td>f</td>\n",
       "      <td>f</td>\n",
       "      <td>f</td>\n",
       "      <td>...</td>\n",
       "      <td>y</td>\n",
       "      <td>1.20</td>\n",
       "      <td>y</td>\n",
       "      <td>57</td>\n",
       "      <td>y</td>\n",
       "      <td>1.28</td>\n",
       "      <td>y</td>\n",
       "      <td>44</td>\n",
       "      <td>n</td>\n",
       "      <td>?</td>\n",
       "    </tr>\n",
       "  </tbody>\n",
       "</table>\n",
       "<p>5 rows × 26 columns</p>\n",
       "</div>"
      ],
      "text/plain": [
       "        status age sex on_thyroxine query_on_thyroxine  \\\n",
       "0  hypothyroid  72   M            f                  f   \n",
       "1  hypothyroid  15   F            t                  f   \n",
       "2  hypothyroid  24   M            f                  f   \n",
       "3  hypothyroid  24   F            f                  f   \n",
       "4  hypothyroid  77   M            f                  f   \n",
       "\n",
       "  on_antithyroid_medication thyroid_surgery query_hypothyroid  \\\n",
       "0                         f               f                 f   \n",
       "1                         f               f                 f   \n",
       "2                         f               f                 f   \n",
       "3                         f               f                 f   \n",
       "4                         f               f                 f   \n",
       "\n",
       "  query_hyperthyroid pregnant  ... T3_measured    T3 TT4_measured TT4  \\\n",
       "0                  f        f  ...           y  0.60            y  15   \n",
       "1                  f        f  ...           y  1.70            y  19   \n",
       "2                  f        f  ...           y  0.20            y   4   \n",
       "3                  f        f  ...           y  0.40            y   6   \n",
       "4                  f        f  ...           y  1.20            y  57   \n",
       "\n",
       "  T4U_measured   T4U FTI_measured FTI TBG_measured TBG  \n",
       "0            y  1.48            y  10            n   ?  \n",
       "1            y  1.13            y  17            n   ?  \n",
       "2            y     1            y   0            n   ?  \n",
       "3            y  1.04            y   6            n   ?  \n",
       "4            y  1.28            y  44            n   ?  \n",
       "\n",
       "[5 rows x 26 columns]"
      ]
     },
     "execution_count": 118,
     "metadata": {},
     "output_type": "execute_result"
    }
   ],
   "source": [
    "# first five rows\n",
    "df.head()"
   ]
  },
  {
   "cell_type": "code",
   "execution_count": 119,
   "metadata": {},
   "outputs": [
    {
     "data": {
      "text/html": [
       "<div>\n",
       "<style scoped>\n",
       "    .dataframe tbody tr th:only-of-type {\n",
       "        vertical-align: middle;\n",
       "    }\n",
       "\n",
       "    .dataframe tbody tr th {\n",
       "        vertical-align: top;\n",
       "    }\n",
       "\n",
       "    .dataframe thead th {\n",
       "        text-align: right;\n",
       "    }\n",
       "</style>\n",
       "<table border=\"1\" class=\"dataframe\">\n",
       "  <thead>\n",
       "    <tr style=\"text-align: right;\">\n",
       "      <th></th>\n",
       "      <th>status</th>\n",
       "      <th>age</th>\n",
       "      <th>sex</th>\n",
       "      <th>on_thyroxine</th>\n",
       "      <th>query_on_thyroxine</th>\n",
       "      <th>on_antithyroid_medication</th>\n",
       "      <th>thyroid_surgery</th>\n",
       "      <th>query_hypothyroid</th>\n",
       "      <th>query_hyperthyroid</th>\n",
       "      <th>pregnant</th>\n",
       "      <th>...</th>\n",
       "      <th>T3_measured</th>\n",
       "      <th>T3</th>\n",
       "      <th>TT4_measured</th>\n",
       "      <th>TT4</th>\n",
       "      <th>T4U_measured</th>\n",
       "      <th>T4U</th>\n",
       "      <th>FTI_measured</th>\n",
       "      <th>FTI</th>\n",
       "      <th>TBG_measured</th>\n",
       "      <th>TBG</th>\n",
       "    </tr>\n",
       "  </thead>\n",
       "  <tbody>\n",
       "    <tr>\n",
       "      <td>3158</td>\n",
       "      <td>negative</td>\n",
       "      <td>58</td>\n",
       "      <td>F</td>\n",
       "      <td>f</td>\n",
       "      <td>f</td>\n",
       "      <td>f</td>\n",
       "      <td>f</td>\n",
       "      <td>f</td>\n",
       "      <td>f</td>\n",
       "      <td>f</td>\n",
       "      <td>...</td>\n",
       "      <td>y</td>\n",
       "      <td>1.70</td>\n",
       "      <td>y</td>\n",
       "      <td>86</td>\n",
       "      <td>y</td>\n",
       "      <td>0.91</td>\n",
       "      <td>y</td>\n",
       "      <td>95</td>\n",
       "      <td>n</td>\n",
       "      <td>?</td>\n",
       "    </tr>\n",
       "    <tr>\n",
       "      <td>3159</td>\n",
       "      <td>negative</td>\n",
       "      <td>29</td>\n",
       "      <td>F</td>\n",
       "      <td>f</td>\n",
       "      <td>f</td>\n",
       "      <td>f</td>\n",
       "      <td>f</td>\n",
       "      <td>f</td>\n",
       "      <td>f</td>\n",
       "      <td>f</td>\n",
       "      <td>...</td>\n",
       "      <td>y</td>\n",
       "      <td>1.80</td>\n",
       "      <td>y</td>\n",
       "      <td>99</td>\n",
       "      <td>y</td>\n",
       "      <td>1.01</td>\n",
       "      <td>y</td>\n",
       "      <td>98</td>\n",
       "      <td>n</td>\n",
       "      <td>?</td>\n",
       "    </tr>\n",
       "    <tr>\n",
       "      <td>3160</td>\n",
       "      <td>negative</td>\n",
       "      <td>77</td>\n",
       "      <td>M</td>\n",
       "      <td>f</td>\n",
       "      <td>f</td>\n",
       "      <td>f</td>\n",
       "      <td>f</td>\n",
       "      <td>f</td>\n",
       "      <td>f</td>\n",
       "      <td>f</td>\n",
       "      <td>...</td>\n",
       "      <td>y</td>\n",
       "      <td>0.60</td>\n",
       "      <td>y</td>\n",
       "      <td>71</td>\n",
       "      <td>y</td>\n",
       "      <td>0.68</td>\n",
       "      <td>y</td>\n",
       "      <td>104</td>\n",
       "      <td>n</td>\n",
       "      <td>?</td>\n",
       "    </tr>\n",
       "    <tr>\n",
       "      <td>3161</td>\n",
       "      <td>negative</td>\n",
       "      <td>74</td>\n",
       "      <td>F</td>\n",
       "      <td>f</td>\n",
       "      <td>f</td>\n",
       "      <td>f</td>\n",
       "      <td>f</td>\n",
       "      <td>f</td>\n",
       "      <td>f</td>\n",
       "      <td>f</td>\n",
       "      <td>...</td>\n",
       "      <td>y</td>\n",
       "      <td>0.10</td>\n",
       "      <td>y</td>\n",
       "      <td>65</td>\n",
       "      <td>y</td>\n",
       "      <td>0.48</td>\n",
       "      <td>y</td>\n",
       "      <td>137</td>\n",
       "      <td>n</td>\n",
       "      <td>?</td>\n",
       "    </tr>\n",
       "    <tr>\n",
       "      <td>3162</td>\n",
       "      <td>negative</td>\n",
       "      <td>56</td>\n",
       "      <td>F</td>\n",
       "      <td>t</td>\n",
       "      <td>f</td>\n",
       "      <td>f</td>\n",
       "      <td>f</td>\n",
       "      <td>f</td>\n",
       "      <td>f</td>\n",
       "      <td>f</td>\n",
       "      <td>...</td>\n",
       "      <td>y</td>\n",
       "      <td>1.80</td>\n",
       "      <td>y</td>\n",
       "      <td>139</td>\n",
       "      <td>y</td>\n",
       "      <td>0.97</td>\n",
       "      <td>y</td>\n",
       "      <td>143</td>\n",
       "      <td>n</td>\n",
       "      <td>?</td>\n",
       "    </tr>\n",
       "  </tbody>\n",
       "</table>\n",
       "<p>5 rows × 26 columns</p>\n",
       "</div>"
      ],
      "text/plain": [
       "        status age sex on_thyroxine query_on_thyroxine  \\\n",
       "3158  negative  58   F            f                  f   \n",
       "3159  negative  29   F            f                  f   \n",
       "3160  negative  77   M            f                  f   \n",
       "3161  negative  74   F            f                  f   \n",
       "3162  negative  56   F            t                  f   \n",
       "\n",
       "     on_antithyroid_medication thyroid_surgery query_hypothyroid  \\\n",
       "3158                         f               f                 f   \n",
       "3159                         f               f                 f   \n",
       "3160                         f               f                 f   \n",
       "3161                         f               f                 f   \n",
       "3162                         f               f                 f   \n",
       "\n",
       "     query_hyperthyroid pregnant  ... T3_measured    T3 TT4_measured  TT4  \\\n",
       "3158                  f        f  ...           y  1.70            y   86   \n",
       "3159                  f        f  ...           y  1.80            y   99   \n",
       "3160                  f        f  ...           y  0.60            y   71   \n",
       "3161                  f        f  ...           y  0.10            y   65   \n",
       "3162                  f        f  ...           y  1.80            y  139   \n",
       "\n",
       "     T4U_measured   T4U FTI_measured  FTI TBG_measured TBG  \n",
       "3158            y  0.91            y   95            n   ?  \n",
       "3159            y  1.01            y   98            n   ?  \n",
       "3160            y  0.68            y  104            n   ?  \n",
       "3161            y  0.48            y  137            n   ?  \n",
       "3162            y  0.97            y  143            n   ?  \n",
       "\n",
       "[5 rows x 26 columns]"
      ]
     },
     "execution_count": 119,
     "metadata": {},
     "output_type": "execute_result"
    }
   ],
   "source": [
    "# bottom five rows\n",
    "df.tail()"
   ]
  },
  {
   "cell_type": "code",
   "execution_count": 120,
   "metadata": {},
   "outputs": [
    {
     "name": "stdout",
     "output_type": "stream",
     "text": [
      "status\n",
      "['hypothyroid' 'negative']\n",
      "2\n",
      "\n",
      "--------------------------------\n",
      "age\n",
      "['72' '15' '24' '77' '85' '64' '20' '42' '69' '75' '53' '59' '68' '50'\n",
      " '78' '65' '28' '43' '40' '84' '?' '83' '63' '73' '36' '27' '48' '71' '60'\n",
      " '34' '79' '62' '74' '32' '41' '70' '29' '5' '58' '35' '51' '22' '16' '44'\n",
      " '39' '47' '18' '17' '88' '56' '30' '45' '66' '52' '54' '80' '33' '38'\n",
      " '92' '67' '46' '13' '89' '61' '49' '26' '57' '31' '90' '81' '25' '37'\n",
      " '76' '87' '23' '55' '86' '98' '21' '97' '1' '6' '14' '82' '11' '19' '9'\n",
      " '12' '10' '8' '7' '4' '93']\n",
      "93\n",
      "\n",
      "--------------------------------\n",
      "sex\n",
      "['M' 'F' '?']\n",
      "3\n",
      "\n",
      "--------------------------------\n",
      "on_thyroxine\n",
      "['f' 't']\n",
      "2\n",
      "\n",
      "--------------------------------\n",
      "query_on_thyroxine\n",
      "['f' 't']\n",
      "2\n",
      "\n",
      "--------------------------------\n",
      "on_antithyroid_medication\n",
      "['f' 't']\n",
      "2\n",
      "\n",
      "--------------------------------\n",
      "thyroid_surgery\n",
      "['f' 't']\n",
      "2\n",
      "\n",
      "--------------------------------\n",
      "query_hypothyroid\n",
      "['f' 't']\n",
      "2\n",
      "\n",
      "--------------------------------\n",
      "query_hyperthyroid\n",
      "['f' 't']\n",
      "2\n",
      "\n",
      "--------------------------------\n",
      "pregnant\n",
      "['f' 't']\n",
      "2\n",
      "\n",
      "--------------------------------\n",
      "sick\n",
      "['f' 't']\n",
      "2\n",
      "\n",
      "--------------------------------\n",
      "tumor\n",
      "['f' 't']\n",
      "2\n",
      "\n",
      "--------------------------------\n",
      "lithium\n",
      "['f' 't']\n",
      "2\n",
      "\n",
      "--------------------------------\n",
      "goitre\n",
      "['f' 't']\n",
      "2\n",
      "\n",
      "--------------------------------\n",
      "TSH_measured\n",
      "['y' 'n']\n",
      "2\n",
      "\n",
      "--------------------------------\n",
      "TSH\n",
      "['30' '145' '0' '430' '7.30' '138' '7.70' '21' '92' '48' '36' '15' '15.30'\n",
      " '25' '61' '28' '170' '54' '216' '56' '71' '46' '70' '34' '53' '9.40'\n",
      " '126' '10' '530' '35' '65' '57' '125' '23' '80' '117' '49' '66' '8.20'\n",
      " '150' '?' '18' '165' '164' '24' '90' '77' '19' '58' '100' '213' '17'\n",
      " '235' '153' '13' '31' '109' '260' '43' '12' '11' '55' '6.50' '20' '7.50'\n",
      " '14' '60' '140' '33' '8.70' '0.25' '10.70' '82' '45' '42' '41' '160' '16'\n",
      " '89' '44' '176' '6.40' '183' '29' '37' '39' '7.90' '59' '68' '38' '47'\n",
      " '143' '6.60' '288' '96' '0.50' '1.20' '1.90' '0.09' '3.10' '0.40' '0.85'\n",
      " '0.30' '0.90' '1.50' '4.60' '0.20' '5.80' '4' '1.40' '2' '2.60' '2.90'\n",
      " '0.80' '4.90' '10.30' '2.30' '0.70' '0.60' '1.30' '2.50' '5.10' '1.70'\n",
      " '2.70' '22' '8.10' '3.30' '5' '3.20' '1.80' '1.10' '0.46' '1' '5.60'\n",
      " '4.40' '16.50' '2.10' '6.30' '5.50' '7.40' '5.90' '0.15' '14.90' '2.20'\n",
      " '9.70' '9.60' '1.60' '3.70' '3' '2.80' '0.10' '4.20' '27' '3.50' '0.05'\n",
      " '19.20' '8' '9.10' '3.60' '7.80' '3.80' '8.50' '9.20' '52' '2.40' '3.90'\n",
      " '0.03' '0.04' '26' '6.10' '0.65' '0.92' '7.60' '8.40' '14.40' '1.05'\n",
      " '0.37' '178' '6.90' '4.50' '4.70' '40' '6' '4.10' '14.30' '5.40' '8.30'\n",
      " '0.06' '8.80' '8.90' '7.10' '4.80' '0.43' '6.70' '200' '8.60' '86' '0.21'\n",
      " '9' '0.26' '3.40' '6.20' '17.40' '85' '1.83' '63' '13.30' '0.02' '0.42'\n",
      " '9.50' '0.84' '0.88' '4.30' '0.67' '0.81' '5.20' '9.80' '76' '0.62'\n",
      " '0.01' '11.40' '88' '0.68' '0.07' '0.69' '0.77' '9.90' '0.64' '13.20'\n",
      " '6.80' '0.28' '11.60' '0.91' '1.01' '0.23' '0.35' '50' '32' '0.83' '0.08']\n",
      "240\n",
      "\n",
      "--------------------------------\n",
      "T3_measured\n",
      "['y' 'n']\n",
      "2\n",
      "\n",
      "--------------------------------\n",
      "T3\n",
      "['0.60' '1.70' '0.20' '0.40' '1.20' '1.10' '1.30' '1.90' '?' '0.80' '2.20'\n",
      " '1.50' '2.70' '2' '0.30' '2.10' '0.50' '0.70' '1' '1.40' '2.30' '2.40'\n",
      " '0.90' '1.80' '0' '2.80' '1.60' '6.70' '3.30' '3' '2.50' '2.60' '4'\n",
      " '9.80' '3.90' '3.40' '3.80' '4.50' '3.20' '3.70' '4.30' '2.90' '3.10'\n",
      " '3.50' '3.60' '6.60' '4.90' '8.90' '4.10' '5' '5.30' '7.60' '7.30' '4.20'\n",
      " '4.40' '5.10' '7' '0.10' '0.05' '4.70' '6.20' '5.50' '4.60' '6.10' '8.10'\n",
      " '5.20' '5.60' '4.80' '10.20' '8.60']\n",
      "70\n",
      "\n",
      "--------------------------------\n",
      "TT4_measured\n",
      "['y' 'n']\n",
      "2\n",
      "\n",
      "--------------------------------\n",
      "TT4\n",
      "['15' '19' '4' '6' '57' '27' '54' '34' '39' '7.60' '53' '38' '98' '44'\n",
      " '37' '81' '13' '17' '12' '50' '23' '14' '3.90' '52' '32' '30' '84' '10'\n",
      " '55' '24' '28' '11' '6.60' '31' '33' '41' '9' '78' '42' '8.10' '65' '16'\n",
      " '9.70' '46' '22' '61' '2.30' '21' '7.50' '18' '66' '25' '43' '2' '3' '58'\n",
      " '59' '71' '74' '56' '40' '20' '48' '230' '70' '4.10' '63' '5.30' '2.90'\n",
      " '62' '75' '68' '45' '47' '36' '80' '109' '8.60' '83' '82' '101' '76'\n",
      " '103' '112' '206' '110' '93' '79' '121' '?' '107' '88' '187' '254' '115'\n",
      " '113' '260' '117' '164' '97' '64' '129' '111' '106' '95' '87' '105' '90'\n",
      " '67' '134' '35' '193' '143' '130' '108' '86' '96' '92' '99' '216' '152'\n",
      " '125' '138' '194' '91' '120' '102' '170' '126' '116' '140' '94' '159'\n",
      " '85' '210' '89' '151' '247' '139' '153' '178' '123' '137' '161' '7.30'\n",
      " '72' '202' '122' '124' '157' '118' '104' '135' '186' '241' '131' '119'\n",
      " '100' '220' '176' '136' '183' '155' '208' '199' '154' '169' '128' '235'\n",
      " '195' '267' '232' '197' '212' '149' '127' '245' '132' '162' '77' '142'\n",
      " '69' '173' '141' '156' '181' '189' '60' '114' '198' '147' '191' '177'\n",
      " '174' '207' '168' '73' '160' '145' '200' '182' '158' '203' '209' '217'\n",
      " '430' '213' '218' '163' '296' '167' '148' '166' '185' '248' '172' '144'\n",
      " '150' '165' '196' '308' '146' '426' '224' '29' '204' '201' '133' '180'\n",
      " '184' '450' '244' '301' '255' '252' '396' '223' '261' '250' '179' '219'\n",
      " '190' '51' '221' '171' '242' '275' '211' '49' '239' '205' '222' '256'\n",
      " '214' '282' '287' '253' '269' '175' '228' '333' '258' '236' '225' '263'\n",
      " '283' '359' '188' '240']\n",
      "269\n",
      "\n",
      "--------------------------------\n",
      "T4U_measured\n",
      "['y' 'n']\n",
      "2\n",
      "\n",
      "--------------------------------\n",
      "T4U\n",
      "['1.48' '1.13' '1' '1.04' '1.28' '1.19' '0.86' '1.05' '1.21' '1.02' '0.92'\n",
      " '1.29' '0.98' '1.08' '1.01' '1.18' '1.10' '1.27' '0.83' '1.11' '0.78'\n",
      " '1.39' '1.12' '0.93' '0.99' '0.90' '1.06' '0.68' '0.67' '1.14' '0.80'\n",
      " '0.96' '0.95' '1.46' '1.03' '0.97' '0.94' '1.09' '1.24' '1.23' '1.53'\n",
      " '1.26' '1.40' '1.17' '0.87' '0.61' '0.70' '1.07' '1.73' '1.45' '1.20'\n",
      " '0.89' '0.84' '0.91' '0.85' '1.35' '0.82' '1.50' '0.74' '1.71' '1.79'\n",
      " '0.73' '0.77' '1.25' '?' '0.88' '0.72' '0.31' '0' '0.79' '0.81' '0.71'\n",
      " '1.93' '1.32' '0.66' '1.68' '1.42' '1.70' '1.83' '1.41' '1.34' '1.65'\n",
      " '1.22' '0.75' '1.74' '0.69' '1.51' '0.76' '1.16' '0.35' '0.62' '0.54'\n",
      " '1.36' '1.33' '1.30' '0.48' '1.59' '1.75' '1.86' '1.38' '1.43' '1.62'\n",
      " '2.01' '0.30' '1.31' '1.15' '1.57' '0.55' '1.66' '0.52' '1.97' '1.47'\n",
      " '0.36' '1.88' '1.55' '0.34' '1.67' '0.58' '0.60' '0.59' '1.37' '1.76'\n",
      " '0.64' '1.80' '0.41' '0.20' '1.77' '0.33' '1.54' '0.46' '0.32' '1.44'\n",
      " '1.56' '0.56' '1.52' '2.03' '0.65' '0.63' '1.96' '0.53' '0.47' '0.29'\n",
      " '2.21' '1.69' '1.64' '1.49' '1.72' '1.58' '0.57' '1.61' '0.28' '2' '1.63'\n",
      " '0.27' '1.94' '0.50' '0.49' '0.40' '0.38']\n",
      "159\n",
      "\n",
      "--------------------------------\n",
      "FTI_measured\n",
      "['y' 'n']\n",
      "2\n",
      "\n",
      "--------------------------------\n",
      "FTI\n",
      "['10' '17' '0' '6' '44' '23' '63' '32' '7.50' '61' '41' '76' '45' '34'\n",
      " '81' '11' '16' '46' '22' '12' '5' '47' '29' '37' '60' '8.40' '8.50' '24'\n",
      " '28' '7' '49' '36' '15' '9' '80' '53' '7.20' '68' '6.60' '48' '21' '14'\n",
      " '2' '20' '1.40' '56' '3' '51' '13' '43' '78' '52' '64' '26' '35' '31'\n",
      " '133' '3.40' '54' '8.90' '57' '5.50' '58' '55' '2.80' '66' '4' '40' '50'\n",
      " '8.70' '87' '89' '112' '123' '99' '92' '104' '69' '196' '107' '106' '74'\n",
      " '97' '?' '122' '84' '114' '124' '241' '119' '120' '136' '85' '127' '839'\n",
      " '137' '197' '96' '77' '108' '82' '72' '94' '91' '240' '121' '109' '79'\n",
      " '100' '98' '73' '117' '165' '103' '88' '101' '126' '132' '128' '143'\n",
      " '152' '141' '186' '113' '102' '125' '93' '105' '159' '188' '71' '149'\n",
      " '116' '83' '176' '161' '86' '140' '111' '158' '115' '171' '90' '95' '70'\n",
      " '135' '134' '178' '110' '170' '205' '695' '155' '118' '741' '131' '129'\n",
      " '142' '153' '75' '254' '246' '139' '185' '157' '147' '164' '130' '222'\n",
      " '650' '174' '182' '144' '169' '257' '145' '345' '180' '167' '151' '154'\n",
      " '150' '219' '228' '65' '187' '166' '195' '208' '138' '33' '173' '146'\n",
      " '211' '181' '190' '247' '221' '395' '216' '212' '148' '162' '220' '370'\n",
      " '450' '160' '59' '189' '203' '168' '179' '264' '470' '184' '163' '67'\n",
      " '213' '354' '292' '359' '172' '156' '334' '177' '214' '194' '192' '215'\n",
      " '217' '271' '250' '244' '308' '881' '258' '316' '200' '711' '256' '232'\n",
      " '202' '39' '248' '237' '259' '445' '19' '852' '42' '235' '634' '283'\n",
      " '305' '204' '229' '332' '550' '249' '263' '615' '266' '198' '175' '209'\n",
      " '299' '193' '227' '223' '337' '210' '272' '702' '218' '239' '355' '482'\n",
      " '347' '485' '612' '428']\n",
      "281\n",
      "\n",
      "--------------------------------\n",
      "TBG_measured\n",
      "['n' 'y']\n",
      "2\n",
      "\n",
      "--------------------------------\n",
      "TBG\n",
      "['?' '28' '34' '0' '19' '30' '25' '48' '39' '31' '16' '21' '37' '40' '27'\n",
      " '3.10' '38' '108' '20' '36' '17' '23' '35' '32' '63' '9.30' '15' '26'\n",
      " '33' '41' '110' '22' '43' '53' '80' '47' '29' '13' '24' '18' '45' '86'\n",
      " '50' '8.40' '52' '11' '12' '14' '65' '7.30' '8.50' '69' '122']\n",
      "53\n",
      "\n",
      "--------------------------------\n"
     ]
    }
   ],
   "source": [
    "\n",
    "# Checking the unique values in each column\n",
    "# Using a for loop to iterate through the dataframe, \n",
    "# finding the unique values in each column then print them out \n",
    "#\n",
    "#\n",
    "\n",
    "for column in df.columns:           # Iterating through each column in the dataframe\n",
    "  print(column)                                # Printing the column name\n",
    "  print(df[column].unique())        # Printing out the unique values in each column\n",
    "  print(df[column].nunique())       # Printing out the number of unique values in each column\n",
    "  print('\\n--------------------------------') "
   ]
  },
  {
   "cell_type": "raw",
   "metadata": {},
   "source": [
    "From the above code, we can see that,\n",
    "\n",
    "Numerical columns = [ ' age ' , ' TSH ' , ' T3 ' , ' TT4 ' , ' T4U ' , ' FTI ' , ' TBG ' ]\n",
    "\n",
    "Categorical columns = [ ' sex ' , ' on_thyroxine ' ,' query_on_thyroxine ' ,' on_antithyroid_medication ' , ' thyroid_surgery ' , ' query_hypothyroid ' , ' query_hyperthyroid ' , ' pregnant ' , 'sick ' , ' tumor ', ' lithium ' , ' goitre ' , ' TSH_measured ', ' T3_measured ' , ' TT4_measured ' , ' T4U_measured ' , ' FTI_measured' , ' TBG_measured ' ]\n",
    " We can also see that the column sex has three unique values, where the special charcter \"?\" is part of it. Lets change that to NaN"
   ]
  },
  {
   "cell_type": "code",
   "execution_count": 121,
   "metadata": {},
   "outputs": [],
   "source": [
    "#Replace all rows with ? to nan\n",
    "df.replace('?',np.nan,inplace=True)\n"
   ]
  },
  {
   "cell_type": "code",
   "execution_count": 122,
   "metadata": {},
   "outputs": [],
   "source": [
    "num = ['age','TSH','T3','TT4','T4U','FTI']\n",
    "categorical= ['status','sex', 'on_thyroxine', 'query_on_thyroxine','on_antithyroid_medication', 'thyroid_surgery', 'query_hypothyroid',\n",
    "      'query_hyperthyroid', 'pregnant', 'sick', 'tumor', 'lithium', 'goitre','TSH_measured','T3_measured','TT4_measured',\n",
    "      'T4U_measured','FTI_measured','TBG_measured', 'TBG']"
   ]
  },
  {
   "cell_type": "code",
   "execution_count": 106,
   "metadata": {},
   "outputs": [
    {
     "name": "stdout",
     "output_type": "stream",
     "text": [
      "<class 'pandas.core.frame.DataFrame'>\n",
      "RangeIndex: 3163 entries, 0 to 3162\n",
      "Data columns (total 26 columns):\n",
      "status                       3163 non-null object\n",
      "age                          2717 non-null object\n",
      "sex                          3090 non-null object\n",
      "on_thyroxine                 3163 non-null object\n",
      "query_on_thyroxine           3163 non-null object\n",
      "on_antithyroid_medication    3163 non-null object\n",
      "thyroid_surgery              3163 non-null object\n",
      "query_hypothyroid            3163 non-null object\n",
      "query_hyperthyroid           3163 non-null object\n",
      "pregnant                     3163 non-null object\n",
      "sick                         3163 non-null object\n",
      "tumor                        3163 non-null object\n",
      "lithium                      3163 non-null object\n",
      "goitre                       3163 non-null object\n",
      "TSH_measured                 3163 non-null object\n",
      "TSH                          2695 non-null object\n",
      "T3_measured                  3163 non-null object\n",
      "T3                           2468 non-null object\n",
      "TT4_measured                 3163 non-null object\n",
      "TT4                          2914 non-null object\n",
      "T4U_measured                 3163 non-null object\n",
      "T4U                          2915 non-null object\n",
      "FTI_measured                 3163 non-null object\n",
      "FTI                          2916 non-null object\n",
      "TBG_measured                 3163 non-null object\n",
      "TBG                          260 non-null object\n",
      "dtypes: object(26)\n",
      "memory usage: 642.6+ KB\n"
     ]
    }
   ],
   "source": [
    "#Checking data types of our dataset\n",
    "\n",
    "df.info()"
   ]
  },
  {
   "cell_type": "code",
   "execution_count": 123,
   "metadata": {},
   "outputs": [
    {
     "data": {
      "text/plain": [
       "status                        object\n",
       "age                          float64\n",
       "sex                           object\n",
       "on_thyroxine                  object\n",
       "query_on_thyroxine            object\n",
       "on_antithyroid_medication     object\n",
       "thyroid_surgery               object\n",
       "query_hypothyroid             object\n",
       "query_hyperthyroid            object\n",
       "pregnant                      object\n",
       "sick                          object\n",
       "tumor                         object\n",
       "lithium                       object\n",
       "goitre                        object\n",
       "TSH_measured                  object\n",
       "TSH                          float64\n",
       "T3_measured                   object\n",
       "T3                           float64\n",
       "TT4_measured                  object\n",
       "TT4                          float64\n",
       "T4U_measured                  object\n",
       "T4U                          float64\n",
       "FTI_measured                  object\n",
       "FTI                          float64\n",
       "TBG_measured                  object\n",
       "TBG                           object\n",
       "dtype: object"
      ]
     },
     "execution_count": 123,
     "metadata": {},
     "output_type": "execute_result"
    }
   ],
   "source": [
    "#convert  object to numerical columns\n",
    "\n",
    "df[num] = df[num].apply(pd.to_numeric)\n",
    "df.dtypes"
   ]
  },
  {
   "cell_type": "code",
   "execution_count": 108,
   "metadata": {
    "colab": {
     "base_uri": "https://localhost:8080/",
     "height": 476
    },
    "colab_type": "code",
    "id": "GGa5zki8GN-H",
    "outputId": "2ff34ca3-2790-4762-ac7b-5e8e48a45531"
   },
   "outputs": [
    {
     "data": {
      "text/plain": [
       "status                          0\n",
       "age                           446\n",
       "sex                            73\n",
       "on_thyroxine                    0\n",
       "query_on_thyroxine              0\n",
       "on_antithyroid_medication       0\n",
       "thyroid_surgery                 0\n",
       "query_hypothyroid               0\n",
       "query_hyperthyroid              0\n",
       "pregnant                        0\n",
       "sick                            0\n",
       "tumor                           0\n",
       "lithium                         0\n",
       "goitre                          0\n",
       "TSH_measured                    0\n",
       "TSH                           468\n",
       "T3_measured                     0\n",
       "T3                            695\n",
       "TT4_measured                    0\n",
       "TT4                           249\n",
       "T4U_measured                    0\n",
       "T4U                           248\n",
       "FTI_measured                    0\n",
       "FTI                           247\n",
       "TBG_measured                    0\n",
       "TBG                          2903\n",
       "dtype: int64"
      ]
     },
     "execution_count": 108,
     "metadata": {},
     "output_type": "execute_result"
    }
   ],
   "source": [
    "#Check null values\n",
    "\n",
    "df.isnull().sum()"
   ]
  },
  {
   "cell_type": "code",
   "execution_count": 126,
   "metadata": {},
   "outputs": [],
   "source": [
    "#drop the column that has close to all null values\n",
    "df.drop('TBG', axis=1, inplace = True)"
   ]
  },
  {
   "cell_type": "code",
   "execution_count": 124,
   "metadata": {},
   "outputs": [
    {
     "data": {
      "text/plain": [
       "0"
      ]
     },
     "execution_count": 124,
     "metadata": {},
     "output_type": "execute_result"
    }
   ],
   "source": [
    "\n",
    "df['sex'].fillna(df['sex'].mode()[0], inplace=True)\n",
    "df.sex.isnull().sum()"
   ]
  },
  {
   "cell_type": "code",
   "execution_count": 127,
   "metadata": {
    "colab": {},
    "colab_type": "code",
    "id": "kgl7AkIPRyDf"
   },
   "outputs": [
    {
     "data": {
      "text/plain": [
       "status                       0\n",
       "age                          0\n",
       "sex                          0\n",
       "on_thyroxine                 0\n",
       "query_on_thyroxine           0\n",
       "on_antithyroid_medication    0\n",
       "thyroid_surgery              0\n",
       "query_hypothyroid            0\n",
       "query_hyperthyroid           0\n",
       "pregnant                     0\n",
       "sick                         0\n",
       "tumor                        0\n",
       "lithium                      0\n",
       "goitre                       0\n",
       "TSH_measured                 0\n",
       "TSH                          0\n",
       "T3_measured                  0\n",
       "T3                           0\n",
       "TT4_measured                 0\n",
       "TT4                          0\n",
       "T4U_measured                 0\n",
       "T4U                          0\n",
       "FTI_measured                 0\n",
       "FTI                          0\n",
       "TBG_measured                 0\n",
       "dtype: int64"
      ]
     },
     "execution_count": 127,
     "metadata": {},
     "output_type": "execute_result"
    }
   ],
   "source": [
    "#Fill missing values of numerical variables\n",
    "# Use simple imputer to fill missing values with the mean\n",
    "\n",
    "impute = SimpleImputer(strategy ='mean')\n",
    "df[num] = impute.fit_transform(df[num])\n",
    "df.isnull().sum()"
   ]
  },
  {
   "cell_type": "code",
   "execution_count": 128,
   "metadata": {},
   "outputs": [
    {
     "data": {
      "text/plain": [
       "156"
      ]
     },
     "execution_count": 128,
     "metadata": {},
     "output_type": "execute_result"
    }
   ],
   "source": [
    "# Check for duplicates\n",
    "df.duplicated().sum()"
   ]
  },
  {
   "cell_type": "code",
   "execution_count": 129,
   "metadata": {},
   "outputs": [
    {
     "data": {
      "text/plain": [
       "0"
      ]
     },
     "execution_count": 129,
     "metadata": {},
     "output_type": "execute_result"
    }
   ],
   "source": [
    "#Drop the duplicate rows.\n",
    "df.drop_duplicates(keep=False,inplace=True)\n",
    "\n",
    "#Confirm the duplicated rows have been deleted.\n",
    "df.duplicated().sum()"
   ]
  },
  {
   "cell_type": "markdown",
   "metadata": {
    "colab_type": "text",
    "id": "LBD9vR_W1Fg5"
   },
   "source": [
    "#  EDA(Exploratory Data Analysis)*"
   ]
  },
  {
   "cell_type": "code",
   "execution_count": 130,
   "metadata": {
    "colab": {
     "base_uri": "https://localhost:8080/",
     "height": 476
    },
    "colab_type": "code",
    "id": "Gk-VeuMF3--E",
    "outputId": "4debcde9-bee6-42f8-dac8-93d36d259742"
   },
   "outputs": [
    {
     "data": {
      "text/plain": [
       "status                       negative\n",
       "age                                98\n",
       "sex                                 M\n",
       "on_thyroxine                        t\n",
       "query_on_thyroxine                  t\n",
       "on_antithyroid_medication           t\n",
       "thyroid_surgery                     t\n",
       "query_hypothyroid                   t\n",
       "query_hyperthyroid                  t\n",
       "pregnant                            t\n",
       "sick                                t\n",
       "tumor                               t\n",
       "lithium                             t\n",
       "goitre                              t\n",
       "TSH_measured                        y\n",
       "TSH                               530\n",
       "T3_measured                         y\n",
       "T3                               10.2\n",
       "TT4_measured                        y\n",
       "TT4                               450\n",
       "T4U_measured                        y\n",
       "T4U                              2.21\n",
       "FTI_measured                        y\n",
       "FTI                               881\n",
       "TBG_measured                        y\n",
       "dtype: object"
      ]
     },
     "execution_count": 130,
     "metadata": {},
     "output_type": "execute_result"
    }
   ],
   "source": [
    "#check the maximum patient age and his/her attributes\n",
    "df.max()"
   ]
  },
  {
   "cell_type": "raw",
   "metadata": {
    "colab_type": "text",
    "id": "H_kkX8XI4UqC"
   },
   "source": [
    "\n",
    "*   Highest recorded age was 98 years and is male\n",
    "*   The patient is negative for hypthyroid\n",
    "*   However being pregnant for a male does not make sense.This can be an input done after filling null with mode or was an input error at the facility"
   ]
  },
  {
   "cell_type": "code",
   "execution_count": 131,
   "metadata": {
    "colab": {
     "base_uri": "https://localhost:8080/",
     "height": 476
    },
    "colab_type": "code",
    "id": "KIpnQGsI5Vzm",
    "outputId": "81a6096b-b318-4101-a400-d1aeef672582"
   },
   "outputs": [
    {
     "data": {
      "text/plain": [
       "status                       hypothyroid\n",
       "age                                    1\n",
       "sex                                    F\n",
       "on_thyroxine                           f\n",
       "query_on_thyroxine                     f\n",
       "on_antithyroid_medication              f\n",
       "thyroid_surgery                        f\n",
       "query_hypothyroid                      f\n",
       "query_hyperthyroid                     f\n",
       "pregnant                               f\n",
       "sick                                   f\n",
       "tumor                                  f\n",
       "lithium                                f\n",
       "goitre                                 f\n",
       "TSH_measured                           n\n",
       "TSH                                    0\n",
       "T3_measured                            n\n",
       "T3                                     0\n",
       "TT4_measured                           n\n",
       "TT4                                    2\n",
       "T4U_measured                           n\n",
       "T4U                                  0.2\n",
       "FTI_measured                           n\n",
       "FTI                                    0\n",
       "TBG_measured                           n\n",
       "dtype: object"
      ]
     },
     "execution_count": 131,
     "metadata": {},
     "output_type": "execute_result"
    }
   ],
   "source": [
    "\n",
    "df.min()"
   ]
  },
  {
   "cell_type": "code",
   "execution_count": 20,
   "metadata": {
    "colab": {
     "base_uri": "https://localhost:8080/",
     "height": 221
    },
    "colab_type": "code",
    "id": "ILol9RUXWZEd",
    "outputId": "82e2aa46-971a-4d6d-e355-3019dbbb4d1d"
   },
   "outputs": [
    {
     "data": {
      "text/plain": [
       "0       hypothyroid\n",
       "1       hypothyroid\n",
       "2       hypothyroid\n",
       "3       hypothyroid\n",
       "4       hypothyroid\n",
       "           ...     \n",
       "3158       negative\n",
       "3159       negative\n",
       "3160       negative\n",
       "3161       negative\n",
       "3162       negative\n",
       "Name: status, Length: 3010, dtype: object"
      ]
     },
     "execution_count": 20,
     "metadata": {
      "tags": []
     },
     "output_type": "execute_result"
    }
   ],
   "source": [
    "#We define x and y\n",
    "y = df['status']\n",
    "y\n"
   ]
  },
  {
   "cell_type": "raw",
   "metadata": {
    "colab_type": "text",
    "id": "ypn8bOts5mAZ"
   },
   "source": [
    "\n",
    "*   Lowest age recorded was one year and is female and has hypothyroid\n"
   ]
  },
  {
   "cell_type": "markdown",
   "metadata": {},
   "source": [
    "# Univariate Analysis"
   ]
  },
  {
   "cell_type": "code",
   "execution_count": 152,
   "metadata": {},
   "outputs": [
    {
     "data": {
      "image/png": "[encoded data removed]",
      "text/plain": [
       "<Figure size 432x288 with 1 Axes>"
      ]
     },
     "metadata": {
      "needs_background": "light"
     },
     "output_type": "display_data"
    }
   ],
   "source": [
    "#visualizing age dirstibution\n",
    "\n",
    "df['age'].plot.hist(grid=True, bins=20, rwidth=0.9)\n",
    "plt.title('Patients Age Distribution')\n",
    "plt.xlabel('Age')\n",
    "plt.ylabel('Counts')\n",
    "plt.grid(alpha= 1)"
   ]
  },
  {
   "cell_type": "raw",
   "metadata": {},
   "source": [
    "The distribution is fairly normal\n",
    "\n",
    "The distribution is more concentrated around the mean"
   ]
  },
  {
   "cell_type": "code",
   "execution_count": 156,
   "metadata": {},
   "outputs": [
    {
     "data": {
      "image/png": "[encoded data removed]",
      "text/plain": [
       "<Figure size 432x288 with 1 Axes>"
      ]
     },
     "metadata": {
      "needs_background": "light"
     },
     "output_type": "display_data"
    }
   ],
   "source": [
    "\n",
    "#visualizing the distribution of gender in the dataset\n",
    "sns.countplot('sex',data = df)\n",
    "plt.xlabel(\"sex\",fontsize=15)\n",
    "plt.ylabel(\"Count\",fontsize=15)\n",
    "plt.title(\"Countplot of Gender\",fontsize=16,color=\"black\")\n",
    "plt.show()"
   ]
  },
  {
   "cell_type": "raw",
   "metadata": {},
   "source": [
    "The female patients entries are more than double that of male patients: This might be because women are more prone to hypothyroidism than men."
   ]
  },
  {
   "cell_type": "code",
   "execution_count": 165,
   "metadata": {},
   "outputs": [
    {
     "data": {
      "image/png": "[encoded data removed]",
      "text/plain": [
       "<Figure size 1440x1800 with 18 Axes>"
      ]
     },
     "metadata": {},
     "output_type": "display_data"
    }
   ],
   "source": [
    "# Countplot of categorical columns in the dataset\n",
    "# creating a list of the categorical columns in the dataset\n",
    "\n",
    "fig, axes = plt.subplots(nrows=6, ncols=3, figsize=(20,25))\n",
    "plt.suptitle('Countplots of categorical columns')\n",
    "for ax, data, column in zip(axes.flatten(), df, categorical):\n",
    "   sns.countplot(df[column], ax=ax)"
   ]
  },
  {
   "cell_type": "code",
   "execution_count": 175,
   "metadata": {},
   "outputs": [
    {
     "data": {
      "image/png": "[encoded data removed]",
      "text/plain": [
       "<Figure size 432x288 with 1 Axes>"
      ]
     },
     "metadata": {},
     "output_type": "display_data"
    }
   ],
   "source": [
    "# Plot scatter plot for T3 and T4 hormones\n",
    "plt.scatter(df[\"T3\"],df[\"TT4\"])\n",
    "plt.ylabel(\"T3\")\n",
    "plt.xlabel(\"TT4\")\n",
    "plt.title(\"T3 vs TT4 hormones\")\n",
    "plt.show()"
   ]
  },
  {
   "cell_type": "raw",
   "metadata": {},
   "source": [
    "\n",
    "There is a strong positive linear relationship between T3 and T4 hormones. An increase in TT4 hormone leads to an increase in T3 hormone"
   ]
  },
  {
   "cell_type": "code",
   "execution_count": 177,
   "metadata": {},
   "outputs": [
    {
     "data": {
      "image/png": "[encoded data removed]",
      "text/plain": [
       "<Figure size 432x288 with 1 Axes>"
      ]
     },
     "metadata": {},
     "output_type": "display_data"
    }
   ],
   "source": [
    "# Plot scatter plot for T3 and T4 hormones\n",
    "plt.scatter(df[\"age\"],df[\"TSH_measured\"])\n",
    "plt.ylabel(\"TSH_measured\")\n",
    "plt.xlabel(\"Age\")\n",
    "plt.title(\"Age vs TSH hormones\")\n",
    "plt.show()"
   ]
  },
  {
   "cell_type": "raw",
   "metadata": {},
   "source": [
    "Presence of TSH hormone is not affected by the a patient's age."
   ]
  },
  {
   "cell_type": "markdown",
   "metadata": {},
   "source": [
    "# Multivariate Analysis"
   ]
  },
  {
   "cell_type": "code",
   "execution_count": 166,
   "metadata": {},
   "outputs": [
    {
     "data": {
      "text/html": [
       "<div>\n",
       "<style scoped>\n",
       "    .dataframe tbody tr th:only-of-type {\n",
       "        vertical-align: middle;\n",
       "    }\n",
       "\n",
       "    .dataframe tbody tr th {\n",
       "        vertical-align: top;\n",
       "    }\n",
       "\n",
       "    .dataframe thead th {\n",
       "        text-align: right;\n",
       "    }\n",
       "</style>\n",
       "<table border=\"1\" class=\"dataframe\">\n",
       "  <thead>\n",
       "    <tr style=\"text-align: right;\">\n",
       "      <th></th>\n",
       "      <th>age</th>\n",
       "      <th>TSH</th>\n",
       "      <th>T3</th>\n",
       "      <th>TT4</th>\n",
       "      <th>T4U</th>\n",
       "      <th>FTI</th>\n",
       "    </tr>\n",
       "  </thead>\n",
       "  <tbody>\n",
       "    <tr>\n",
       "      <td>age</td>\n",
       "      <td>1.000000</td>\n",
       "      <td>-0.008035</td>\n",
       "      <td>-0.269111</td>\n",
       "      <td>-0.082874</td>\n",
       "      <td>-0.186727</td>\n",
       "      <td>0.020855</td>\n",
       "    </tr>\n",
       "    <tr>\n",
       "      <td>TSH</td>\n",
       "      <td>-0.008035</td>\n",
       "      <td>1.000000</td>\n",
       "      <td>-0.167690</td>\n",
       "      <td>-0.308682</td>\n",
       "      <td>0.076130</td>\n",
       "      <td>-0.235764</td>\n",
       "    </tr>\n",
       "    <tr>\n",
       "      <td>T3</td>\n",
       "      <td>-0.269111</td>\n",
       "      <td>-0.167690</td>\n",
       "      <td>1.000000</td>\n",
       "      <td>0.521204</td>\n",
       "      <td>0.384909</td>\n",
       "      <td>0.268378</td>\n",
       "    </tr>\n",
       "    <tr>\n",
       "      <td>TT4</td>\n",
       "      <td>-0.082874</td>\n",
       "      <td>-0.308682</td>\n",
       "      <td>0.521204</td>\n",
       "      <td>1.000000</td>\n",
       "      <td>0.317847</td>\n",
       "      <td>0.669362</td>\n",
       "    </tr>\n",
       "    <tr>\n",
       "      <td>T4U</td>\n",
       "      <td>-0.186727</td>\n",
       "      <td>0.076130</td>\n",
       "      <td>0.384909</td>\n",
       "      <td>0.317847</td>\n",
       "      <td>1.000000</td>\n",
       "      <td>-0.306287</td>\n",
       "    </tr>\n",
       "    <tr>\n",
       "      <td>FTI</td>\n",
       "      <td>0.020855</td>\n",
       "      <td>-0.235764</td>\n",
       "      <td>0.268378</td>\n",
       "      <td>0.669362</td>\n",
       "      <td>-0.306287</td>\n",
       "      <td>1.000000</td>\n",
       "    </tr>\n",
       "  </tbody>\n",
       "</table>\n",
       "</div>"
      ],
      "text/plain": [
       "          age       TSH        T3       TT4       T4U       FTI\n",
       "age  1.000000 -0.008035 -0.269111 -0.082874 -0.186727  0.020855\n",
       "TSH -0.008035  1.000000 -0.167690 -0.308682  0.076130 -0.235764\n",
       "T3  -0.269111 -0.167690  1.000000  0.521204  0.384909  0.268378\n",
       "TT4 -0.082874 -0.308682  0.521204  1.000000  0.317847  0.669362\n",
       "T4U -0.186727  0.076130  0.384909  0.317847  1.000000 -0.306287\n",
       "FTI  0.020855 -0.235764  0.268378  0.669362 -0.306287  1.000000"
      ]
     },
     "execution_count": 166,
     "metadata": {},
     "output_type": "execute_result"
    }
   ],
   "source": [
    "\n",
    "# Let's display the correlations between the variables\n",
    "corr = df.corr()\n",
    "corr"
   ]
  },
  {
   "cell_type": "code",
   "execution_count": 171,
   "metadata": {
    "colab": {
     "base_uri": "https://localhost:8080/",
     "height": 85
    },
    "colab_type": "code",
    "id": "vrdEp1j6cOJ8",
    "outputId": "e782f9a9-5aa7-4fc7-cd20-77d419443f4e"
   },
   "outputs": [
    {
     "name": "stdout",
     "output_type": "stream",
     "text": [
      "[0 0 0 ... 1 1 1]\n"
     ]
    },
    {
     "data": {
      "text/plain": [
       "1    2758\n",
       "0     131\n",
       "Name: status, dtype: int64"
      ]
     },
     "execution_count": 171,
     "metadata": {},
     "output_type": "execute_result"
    }
   ],
   "source": [
    "#Change our target values(y) to a binary\n",
    "\n",
    "y =df['status']= np.where(df['status']=='hypothyroid',0,1)\n",
    "print(y)\n",
    "df['status'].value_counts()\n"
   ]
  },
  {
   "cell_type": "markdown",
   "metadata": {
    "colab_type": "text",
    "id": "LA6KH0eYa6fj"
   },
   "source": [
    "\n",
    "\n",
    "*   1 means it's negative\n",
    "*   0 means it's hypothyroid\n",
    "\n"
   ]
  },
  {
   "cell_type": "code",
   "execution_count": 174,
   "metadata": {
    "colab": {
     "base_uri": "https://localhost:8080/",
     "height": 439
    },
    "colab_type": "code",
    "id": "u_UB8THmWqp5",
    "outputId": "3a6d4698-dd29-4a89-a525-c910a9821ef8"
   },
   "outputs": [],
   "source": [
    "X = df.drop(['status'], axis=1)\n",
    "y= df['status']"
   ]
  },
  {
   "cell_type": "markdown",
   "metadata": {
    "colab_type": "text",
    "id": "MNfFT9kiVvbP"
   },
   "source": [
    "# Data Preprocessing"
   ]
  },
  {
   "cell_type": "code",
   "execution_count": 186,
   "metadata": {
    "colab": {
     "base_uri": "https://localhost:8080/",
     "height": 34
    },
    "colab_type": "code",
    "id": "KX6bscyuWPVu",
    "outputId": "ca3c438d-19d0-4de4-9434-b839724625b7"
   },
   "outputs": [],
   "source": [
    "from sklearn.model_selection import train_test_split\n",
    "\n",
    "#Split our dataset train dataset size is 80% test datset is 20%\n",
    "X_train, X_test, y_train, y_test = train_test_split(X, y, test_size = 0.2, random_state = 0)\n"
   ]
  },
  {
   "cell_type": "code",
   "execution_count": 196,
   "metadata": {
    "colab": {
     "base_uri": "https://localhost:8080/",
     "height": 122
    },
    "colab_type": "code",
    "id": "yMgXQEMiXzUE",
    "outputId": "3f565e0c-f595-4719-a125-71e8044d88ac"
   },
   "outputs": [
    {
     "name": "stdout",
     "output_type": "stream",
     "text": [
      "Collecting sklearn\n",
      "  Downloading https://files.pythonhosted.org/packages/1e/7a/dbb3be0ce9bd5c8b7e3d87328e79063f8b263b2b1bfa4774cb1147bfcd3f/sklearn-0.0.tar.gz\n",
      "Requirement already satisfied: scikit-learn in c:\\users\\user1\\anaconda3\\lib\\site-packages (from sklearn) (0.21.3)\n",
      "Requirement already satisfied: scipy>=0.17.0 in c:\\users\\user1\\anaconda3\\lib\\site-packages (from scikit-learn->sklearn) (1.3.1)\n",
      "Requirement already satisfied: joblib>=0.11 in c:\\users\\user1\\anaconda3\\lib\\site-packages (from scikit-learn->sklearn) (0.13.2)\n",
      "Requirement already satisfied: numpy>=1.11.0 in c:\\users\\user1\\anaconda3\\lib\\site-packages (from scikit-learn->sklearn) (1.16.5)\n",
      "Building wheels for collected packages: sklearn\n",
      "  Building wheel for sklearn (setup.py): started\n",
      "  Building wheel for sklearn (setup.py): finished with status 'done'\n",
      "  Created wheel for sklearn: filename=sklearn-0.0-py2.py3-none-any.whl size=1321 sha256=777023767003ac410365ec53441342b60756d7d62260ca072be18971d0a3091d\n",
      "  Stored in directory: C:\\Users\\user1\\AppData\\Local\\pip\\Cache\\wheels\\76\\03\\bb\\589d421d27431bcd2c6da284d5f2286c8e3b2ea3cf1594c074\n",
      "Successfully built sklearn\n",
      "Installing collected packages: sklearn\n",
      "Successfully installed sklearn-0.0\n"
     ]
    }
   ],
   "source": [
    "!pip install sklearn"
   ]
  },
  {
   "cell_type": "code",
   "execution_count": 197,
   "metadata": {
    "colab": {
     "base_uri": "https://localhost:8080/",
     "height": 292
    },
    "colab_type": "code",
    "id": "SZTRMoDWX7GB",
    "outputId": "58ee58e5-92d9-43ef-81ad-eecf3746e731"
   },
   "outputs": [
    {
     "name": "stdout",
     "output_type": "stream",
     "text": [
      "Collecting category_encoders\n",
      "  Downloading https://files.pythonhosted.org/packages/44/57/fcef41c248701ee62e8325026b90c432adea35555cbc870aff9cfba23727/category_encoders-2.2.2-py2.py3-none-any.whl (80kB)\n",
      "Requirement already satisfied: patsy>=0.5.1 in c:\\users\\user1\\anaconda3\\lib\\site-packages (from category_encoders) (0.5.1)\n",
      "Requirement already satisfied: numpy>=1.14.0 in c:\\users\\user1\\anaconda3\\lib\\site-packages (from category_encoders) (1.16.5)\n",
      "Requirement already satisfied: pandas>=0.21.1 in c:\\users\\user1\\anaconda3\\lib\\site-packages (from category_encoders) (0.25.1)\n",
      "Requirement already satisfied: scikit-learn>=0.20.0 in c:\\users\\user1\\anaconda3\\lib\\site-packages (from category_encoders) (0.21.3)\n",
      "Requirement already satisfied: statsmodels>=0.9.0 in c:\\users\\user1\\anaconda3\\lib\\site-packages (from category_encoders) (0.10.1)\n",
      "Requirement already satisfied: scipy>=1.0.0 in c:\\users\\user1\\anaconda3\\lib\\site-packages (from category_encoders) (1.3.1)\n",
      "Requirement already satisfied: six in c:\\users\\user1\\anaconda3\\lib\\site-packages (from patsy>=0.5.1->category_encoders) (1.12.0)\n",
      "Requirement already satisfied: pytz>=2017.2 in c:\\users\\user1\\anaconda3\\lib\\site-packages (from pandas>=0.21.1->category_encoders) (2019.3)\n",
      "Requirement already satisfied: python-dateutil>=2.6.1 in c:\\users\\user1\\anaconda3\\lib\\site-packages (from pandas>=0.21.1->category_encoders) (2.8.0)\n",
      "Requirement already satisfied: joblib>=0.11 in c:\\users\\user1\\anaconda3\\lib\\site-packages (from scikit-learn>=0.20.0->category_encoders) (0.13.2)\n",
      "Installing collected packages: category-encoders\n",
      "Successfully installed category-encoders-2.2.2\n"
     ]
    }
   ],
   "source": [
    "!pip install category_encoders"
   ]
  },
  {
   "cell_type": "code",
   "execution_count": 203,
   "metadata": {
    "colab": {},
    "colab_type": "code",
    "id": "7gN_G-7oWPIF"
   },
   "outputs": [],
   "source": [
    "\n",
    "# encode categorical variables with one-hot encoding to numeric\n",
    "#Import category encoders\n",
    "import category_encoders as ce\n",
    "\n",
    "encoder = ce.OneHotEncoder(categorical)\n",
    "\n",
    "X_train = encoder.fit_transform(X_train)\n",
    "\n",
    "X_test = encoder.transform(X_test)\n",
    "\n"
   ]
  },
  {
   "cell_type": "code",
   "execution_count": 204,
   "metadata": {
    "colab": {
     "base_uri": "https://localhost:8080/",
     "height": 136
    },
    "colab_type": "code",
    "id": "ub3X_Be9ZAUO",
    "outputId": "10c140bd-663f-45c1-e92c-93fc63246d94"
   },
   "outputs": [
    {
     "name": "stdout",
     "output_type": "stream",
     "text": [
      "       age  sex_1  sex_2  on_thyroxine_1  on_thyroxine_2  \\\n",
      "1532  55.0      1      0               1               0   \n",
      "2171  58.0      0      1               1               0   \n",
      "1139  27.0      0      1               1               0   \n",
      "976   75.0      0      1               1               0   \n",
      "\n",
      "      query_on_thyroxine_1  query_on_thyroxine_2  on_antithyroid_medication_1  \\\n",
      "1532                     1                     0                            1   \n",
      "2171                     1                     0                            1   \n",
      "1139                     1                     0                            1   \n",
      "976                      1                     0                            1   \n",
      "\n",
      "      on_antithyroid_medication_2  thyroid_surgery_1  ...  TT4_measured_2  \\\n",
      "1532                            0                  1  ...               0   \n",
      "2171                            0                  1  ...               0   \n",
      "1139                            0                  1  ...               0   \n",
      "976                             0                  1  ...               0   \n",
      "\n",
      "        TT4  T4U_measured_1  T4U_measured_2   T4U  FTI_measured_1  \\\n",
      "1532  142.0               1               0  0.98               1   \n",
      "2171  256.0               1               0  0.90               1   \n",
      "1139  121.0               1               0  1.21               1   \n",
      "976   169.0               1               0  1.36               1   \n",
      "\n",
      "      FTI_measured_2    FTI  TBG_measured_1  TBG_measured_2  \n",
      "1532               0  145.0               1               0  \n",
      "2171               0  283.0               1               0  \n",
      "1139               0  101.0               1               0  \n",
      "976                0  124.0               1               0  \n",
      "\n",
      "[4 rows x 42 columns]\n"
     ]
    }
   ],
   "source": [
    "print(X_train.head(4))"
   ]
  },
  {
   "cell_type": "code",
   "execution_count": 205,
   "metadata": {
    "colab": {
     "base_uri": "https://localhost:8080/",
     "height": 34
    },
    "colab_type": "code",
    "id": "HyflLGDMfBWn",
    "outputId": "333c6260-c5e6-4c0e-a7d3-cb690f63ffd1"
   },
   "outputs": [
    {
     "data": {
      "text/plain": [
       "False"
      ]
     },
     "execution_count": 205,
     "metadata": {},
     "output_type": "execute_result"
    }
   ],
   "source": [
    "#Confirm there is no nan in train dataset.\n",
    "np.any(np.isnan(X_train))"
   ]
  },
  {
   "cell_type": "code",
   "execution_count": 206,
   "metadata": {
    "colab": {
     "base_uri": "https://localhost:8080/",
     "height": 34
    },
    "colab_type": "code",
    "id": "pTf6ioW6fs_N",
    "outputId": "c36a597a-5ba3-4891-f469-90703426b3ed"
   },
   "outputs": [
    {
     "data": {
      "text/plain": [
       "False"
      ]
     },
     "execution_count": 206,
     "metadata": {},
     "output_type": "execute_result"
    }
   ],
   "source": [
    "# Confirm there is no nan in  test dataset\n",
    "np.any(np.isnan(X_test))"
   ]
  },
  {
   "cell_type": "markdown",
   "metadata": {
    "colab_type": "text",
    "id": "UQHhiK3IZmUJ"
   },
   "source": [
    "# Feature Scaling"
   ]
  },
  {
   "cell_type": "code",
   "execution_count": 207,
   "metadata": {
    "colab": {},
    "colab_type": "code",
    "id": "_OGbx_N1ZkVZ"
   },
   "outputs": [],
   "source": [
    "#Use robust scaler to normalize our dataset\n",
    "cols = X_train.columns\n",
    "\n",
    "\n",
    "scaler = RobustScaler()\n",
    "\n",
    "X_train = scaler.fit_transform(X_train)\n",
    "\n",
    "X_test = scaler.transform(X_test)\n",
    "X_train = pd.DataFrame(X_train, columns=[cols])\n",
    "X_test = pd.DataFrame(X_test, columns=[cols])"
   ]
  },
  {
   "cell_type": "markdown",
   "metadata": {},
   "source": [
    "# Decision Trees"
   ]
  },
  {
   "cell_type": "code",
   "execution_count": 238,
   "metadata": {},
   "outputs": [
    {
     "name": "stdout",
     "output_type": "stream",
     "text": [
      "Accuracy: 98.96193771626297\n"
     ]
    }
   ],
   "source": [
    "# Create a decision tree classifier\n",
    "\n",
    "tree = DecisionTreeClassifier()\n",
    "\n",
    "# Train it on our training set.\n",
    "tree = tree.fit(X_train, y_train)\n",
    "\n",
    "# Predict based on the model we've trained\n",
    "y_pred = tree.predict(X_test)\n",
    "print(\"Accuracy:\",metrics.accuracy_score(y_test, y_pred)*100)\n"
   ]
  },
  {
   "cell_type": "markdown",
   "metadata": {
    "colab_type": "text",
    "id": "rcJLjkRXbljM"
   },
   "source": [
    "# Random Forest"
   ]
  },
  {
   "cell_type": "code",
   "execution_count": 239,
   "metadata": {
    "colab": {
     "base_uri": "https://localhost:8080/",
     "height": 34
    },
    "colab_type": "code",
    "id": "aVGDHL7nb4B6",
    "outputId": "7b232468-f9e2-4eb5-95dd-48dda848a986"
   },
   "outputs": [
    {
     "name": "stdout",
     "output_type": "stream",
     "text": [
      "Model accuracy score with 10 decision-trees : 98.4429\n"
     ]
    }
   ],
   "source": [
    "\n",
    "# Intiate the randomforestclassifier \n",
    "rf = RandomForestClassifier(random_state=0)\n",
    "\n",
    "# fit the model\n",
    "rf.fit(X_train, y_train)\n",
    "\n",
    "# Predict the Test set results\n",
    "y_pred = rf.predict(X_test)\n",
    "\n",
    "# Check accuracy score \n",
    "\n",
    "from sklearn.metrics import accuracy_score\n",
    "\n",
    "print('Model accuracy score with 10 decision-trees : {0:0.4f}'. format(accuracy_score(y_test, y_pred)*100))"
   ]
  },
  {
   "cell_type": "raw",
   "metadata": {},
   "source": [
    "compared with the decision trees with random forest, decison trees has a higher accuracy."
   ]
  },
  {
   "cell_type": "code",
   "execution_count": 233,
   "metadata": {
    "colab": {
     "base_uri": "https://localhost:8080/",
     "height": 34
    },
    "colab_type": "code",
    "id": "d5eQLiPrEvVt",
    "outputId": "049ec8e2-86ba-499a-b4f8-b9f1384143b0"
   },
   "outputs": [
    {
     "name": "stdout",
     "output_type": "stream",
     "text": [
      "Root Mean Squared Error: 0.12478354962115544\n"
     ]
    }
   ],
   "source": [
    "#Check the error rate of the model.\n",
    "\n",
    "print('Root Mean Squared Error:', np.sqrt(metrics.mean_squared_error(y_test, y_pred)))"
   ]
  },
  {
   "cell_type": "raw",
   "metadata": {},
   "source": [
    "\n",
    "Error rate is quitelow. 0.12478.Shows the model is relevantly good."
   ]
  },
  {
   "cell_type": "code",
   "execution_count": 211,
   "metadata": {
    "colab": {
     "base_uri": "https://localhost:8080/",
     "height": 51
    },
    "colab_type": "code",
    "id": "95CSTRObFpRm",
    "outputId": "a5013ad3-40eb-426d-b9ea-77c1dcbdb048"
   },
   "outputs": [
    {
     "data": {
      "text/plain": [
       "array([[ 17,   7],\n",
       "       [  2, 552]], dtype=int64)"
      ]
     },
     "execution_count": 211,
     "metadata": {},
     "output_type": "execute_result"
    }
   ],
   "source": [
    "#Compute the confusion matrix to understand the actual versus predicted variables.\n",
    "from sklearn.metrics import confusion_matrix\n",
    "confusion = confusion_matrix(y_test,y_pred)\n",
    "confusion\n"
   ]
  },
  {
   "cell_type": "raw",
   "metadata": {
    "colab_type": "text",
    "id": "QQXyBrcXHUjZ"
   },
   "source": [
    "\n",
    "*   **Findings**\n",
    "\n",
    "*   Model accuracy was 98.44% with an error rate of 0.125. The model predicted 552 negative and 17 hypothyroid correctly\n",
    "*   To improve the model perfomance, we increase the number of decision trees to 100, increase the max depth and reduce sample split to 20.\n",
    "\n"
   ]
  },
  {
   "cell_type": "code",
   "execution_count": 234,
   "metadata": {
    "colab": {
     "base_uri": "https://localhost:8080/",
     "height": 153
    },
    "colab_type": "code",
    "id": "XIKfKLmce6Wo",
    "outputId": "51d643c4-9636-4e21-8f0f-084d1307d685"
   },
   "outputs": [
    {
     "data": {
      "text/plain": [
       "RandomForestClassifier(bootstrap=True, class_weight=None, criterion='gini',\n",
       "                       max_depth=5, max_features='auto', max_leaf_nodes=None,\n",
       "                       min_impurity_decrease=0.0, min_impurity_split=None,\n",
       "                       min_samples_leaf=1, min_samples_split=20,\n",
       "                       min_weight_fraction_leaf=0.0, n_estimators=100,\n",
       "                       n_jobs=None, oob_score=False, random_state=101,\n",
       "                       verbose=0, warm_start=False)"
      ]
     },
     "execution_count": 234,
     "metadata": {},
     "output_type": "execute_result"
    }
   ],
   "source": [
    "#Challenging the model: Random forest classifier using 100 decision trees\n",
    "# Run the classifier with n_estimators = 100\n",
    "\n",
    "rf1 = RandomForestClassifier(n_estimators=100, random_state=101,max_depth=5, min_samples_split = 20)\n",
    "\n",
    "# fit the model to the training set\n",
    "rf1.fit(X_train, y_train)"
   ]
  },
  {
   "cell_type": "code",
   "execution_count": 235,
   "metadata": {
    "colab": {},
    "colab_type": "code",
    "id": "dw0ZiMO9Ds9n"
   },
   "outputs": [],
   "source": [
    "# Predict on the test set results\n",
    "y_pred1 = rf1.predict(X_test)\n"
   ]
  },
  {
   "cell_type": "code",
   "execution_count": 218,
   "metadata": {
    "colab": {
     "base_uri": "https://localhost:8080/",
     "height": 297
    },
    "colab_type": "code",
    "id": "P8r_4d_QA91W",
    "outputId": "59e2af98-4adb-496a-94ce-b448a27c7e09"
   },
   "outputs": [
    {
     "data": {
      "text/html": [
       "<div>\n",
       "<style scoped>\n",
       "    .dataframe tbody tr th:only-of-type {\n",
       "        vertical-align: middle;\n",
       "    }\n",
       "\n",
       "    .dataframe tbody tr th {\n",
       "        vertical-align: top;\n",
       "    }\n",
       "\n",
       "    .dataframe thead th {\n",
       "        text-align: right;\n",
       "    }\n",
       "</style>\n",
       "<table border=\"1\" class=\"dataframe\">\n",
       "  <thead>\n",
       "    <tr style=\"text-align: right;\">\n",
       "      <th></th>\n",
       "      <th>Actual</th>\n",
       "      <th>Predicted</th>\n",
       "    </tr>\n",
       "  </thead>\n",
       "  <tbody>\n",
       "    <tr>\n",
       "      <td>count</td>\n",
       "      <td>578.000000</td>\n",
       "      <td>578.000000</td>\n",
       "    </tr>\n",
       "    <tr>\n",
       "      <td>mean</td>\n",
       "      <td>0.958478</td>\n",
       "      <td>0.967128</td>\n",
       "    </tr>\n",
       "    <tr>\n",
       "      <td>std</td>\n",
       "      <td>0.199668</td>\n",
       "      <td>0.178456</td>\n",
       "    </tr>\n",
       "    <tr>\n",
       "      <td>min</td>\n",
       "      <td>0.000000</td>\n",
       "      <td>0.000000</td>\n",
       "    </tr>\n",
       "    <tr>\n",
       "      <td>25%</td>\n",
       "      <td>1.000000</td>\n",
       "      <td>1.000000</td>\n",
       "    </tr>\n",
       "    <tr>\n",
       "      <td>50%</td>\n",
       "      <td>1.000000</td>\n",
       "      <td>1.000000</td>\n",
       "    </tr>\n",
       "    <tr>\n",
       "      <td>75%</td>\n",
       "      <td>1.000000</td>\n",
       "      <td>1.000000</td>\n",
       "    </tr>\n",
       "    <tr>\n",
       "      <td>max</td>\n",
       "      <td>1.000000</td>\n",
       "      <td>1.000000</td>\n",
       "    </tr>\n",
       "  </tbody>\n",
       "</table>\n",
       "</div>"
      ],
      "text/plain": [
       "           Actual   Predicted\n",
       "count  578.000000  578.000000\n",
       "mean     0.958478    0.967128\n",
       "std      0.199668    0.178456\n",
       "min      0.000000    0.000000\n",
       "25%      1.000000    1.000000\n",
       "50%      1.000000    1.000000\n",
       "75%      1.000000    1.000000\n",
       "max      1.000000    1.000000"
      ]
     },
     "execution_count": 218,
     "metadata": {},
     "output_type": "execute_result"
    }
   ],
   "source": [
    "# Create a comparison frame between the actual and predicted target variable\n",
    "comparison_frame = pd.DataFrame({'Actual': y_test, 'Predicted': y_pred})\n",
    "\n",
    "comparison_frame.describe()"
   ]
  },
  {
   "cell_type": "code",
   "execution_count": 217,
   "metadata": {
    "colab": {
     "base_uri": "https://localhost:8080/",
     "height": 34
    },
    "colab_type": "code",
    "id": "g5O45vwJAqyb",
    "outputId": "bbf5e77a-9dc4-43c0-bace-d41b566a154b"
   },
   "outputs": [
    {
     "name": "stdout",
     "output_type": "stream",
     "text": [
      "Model accuracy score with 100 decision-trees : 98.2699\n"
     ]
    }
   ],
   "source": [
    "# Check accuracy score \n",
    "print('Model accuracy score with 100 decision-trees : {0:0.4f}'. format(accuracy_score(y_test, y_pred1)*100))"
   ]
  },
  {
   "cell_type": "code",
   "execution_count": 219,
   "metadata": {
    "colab": {
     "base_uri": "https://localhost:8080/",
     "height": 34
    },
    "colab_type": "code",
    "id": "GmYTm9JuAtpQ",
    "outputId": "9c8313e9-c432-4086-8f67-125bfe1af514"
   },
   "outputs": [
    {
     "name": "stdout",
     "output_type": "stream",
     "text": [
      "Root Mean Squared Error: 0.12478354962115544\n"
     ]
    }
   ],
   "source": [
    "#Check the error rate using root mean squared error\n",
    "\n",
    "from sklearn import metrics\n",
    "print('Root Mean Squared Error:', np.sqrt(metrics.mean_squared_error(y_test, y_pred)))"
   ]
  },
  {
   "cell_type": "raw",
   "metadata": {
    "colab_type": "text",
    "id": "dWOtGlBfdZak"
   },
   "source": [
    "Error rate is the same.Shows the model is good."
   ]
  },
  {
   "cell_type": "code",
   "execution_count": 220,
   "metadata": {
    "colab": {
     "base_uri": "https://localhost:8080/",
     "height": 51
    },
    "colab_type": "code",
    "id": "CJZjrdyiHCGM",
    "outputId": "f4c6ad62-77c2-4e24-f326-7ac91837483f"
   },
   "outputs": [
    {
     "data": {
      "text/plain": [
       "array([[ 15,   9],\n",
       "       [  1, 553]], dtype=int64)"
      ]
     },
     "execution_count": 220,
     "metadata": {},
     "output_type": "execute_result"
    }
   ],
   "source": [
    "# Calculate a confusion matrix to identify what patients were predicted to be negative or have hypothyroid\n",
    "confusion = confusion_matrix(y_test,y_pred1)\n",
    "confusion"
   ]
  },
  {
   "cell_type": "raw",
   "metadata": {
    "colab_type": "text",
    "id": "CkwbVJi6BRWt"
   },
   "source": [
    "\n",
    "Findings\n",
    "\n",
    "*   The model accuracy now is 98.26% ; slightly decreased. The error rate remained the same.\n",
    "\n",
    "*   The model predicted correctly 553 patients were negative and 15 patients had hypothyroid\n",
    "\n",
    "*   The model accuracy has a slight decrease, however, we can still improve on the model using gradient boosting and see how it will perfom."
   ]
  },
  {
   "cell_type": "markdown",
   "metadata": {
    "colab_type": "text",
    "id": "fHNGcybXNJhd"
   },
   "source": [
    "# Gradient Boosting Classifier"
   ]
  },
  {
   "cell_type": "code",
   "execution_count": 221,
   "metadata": {
    "colab": {
     "base_uri": "https://localhost:8080/",
     "height": 187
    },
    "colab_type": "code",
    "id": "wO_AcnLGBJrb",
    "outputId": "d2eb0e5c-9203-4b1c-9315-7a631a94aca0"
   },
   "outputs": [
    {
     "data": {
      "text/plain": [
       "GradientBoostingClassifier(criterion='friedman_mse', init=None,\n",
       "                           learning_rate=0.1, loss='deviance', max_depth=3,\n",
       "                           max_features=None, max_leaf_nodes=None,\n",
       "                           min_impurity_decrease=0.0, min_impurity_split=None,\n",
       "                           min_samples_leaf=1, min_samples_split=2,\n",
       "                           min_weight_fraction_leaf=0.0, n_estimators=100,\n",
       "                           n_iter_no_change=None, presort='auto',\n",
       "                           random_state=None, subsample=1.0, tol=0.0001,\n",
       "                           validation_fraction=0.1, verbose=0,\n",
       "                           warm_start=False)"
      ]
     },
     "execution_count": 221,
     "metadata": {},
     "output_type": "execute_result"
    }
   ],
   "source": [
    "#Intiate the gradient boosting classifier\n",
    "gradient = GradientBoostingClassifier(learning_rate =0.1,n_estimators=100,max_depth=3,min_samples_split=2) # defining my classifier as  gradient\n",
    "\n",
    "#fit the train dataset in the classifier\n",
    "gradient.fit(X_train,y_train)"
   ]
  },
  {
   "cell_type": "code",
   "execution_count": 222,
   "metadata": {
    "colab": {
     "base_uri": "https://localhost:8080/",
     "height": 493
    },
    "colab_type": "code",
    "id": "BSR5V4g-Ngiz",
    "outputId": "523dfaba-c7e6-446a-93f9-c31bb32567dd"
   },
   "outputs": [
    {
     "data": {
      "text/plain": [
       "array([1, 1, 1, 1, 1, 1, 1, 1, 1, 0, 1, 1, 1, 1, 1, 1, 1, 0, 1, 1, 1, 1,\n",
       "       1, 1, 1, 1, 1, 1, 1, 1, 1, 1, 1, 1, 1, 1, 0, 1, 1, 1, 1, 1, 1, 1,\n",
       "       1, 1, 1, 1, 1, 1, 1, 1, 1, 1, 1, 0, 1, 1, 1, 1, 1, 1, 1, 1, 1, 1,\n",
       "       1, 1, 1, 1, 1, 1, 1, 1, 1, 1, 1, 1, 1, 1, 1, 1, 1, 1, 1, 1, 1, 1,\n",
       "       1, 1, 1, 1, 1, 1, 1, 1, 1, 1, 1, 1, 1, 1, 1, 1, 1, 1, 1, 1, 1, 1,\n",
       "       1, 1, 1, 1, 1, 1, 1, 1, 1, 1, 0, 1, 1, 1, 1, 1, 1, 1, 1, 1, 1, 1,\n",
       "       1, 1, 1, 1, 1, 1, 1, 0, 1, 1, 1, 1, 1, 1, 1, 1, 1, 1, 1, 0, 1, 0,\n",
       "       1, 1, 1, 0, 1, 1, 1, 1, 1, 1, 1, 1, 1, 1, 1, 1, 1, 1, 1, 1, 1, 1,\n",
       "       1, 1, 1, 1, 1, 1, 1, 1, 1, 1, 1, 1, 1, 1, 1, 1, 1, 1, 1, 0, 1, 1,\n",
       "       0, 1, 1, 1, 1, 1, 1, 1, 1, 1, 1, 1, 1, 1, 1, 1, 1, 1, 1, 1, 1, 1,\n",
       "       1, 1, 1, 1, 1, 1, 1, 1, 1, 1, 0, 1, 1, 1, 1, 1, 1, 0, 1, 0, 1, 1,\n",
       "       1, 1, 1, 1, 1, 1, 1, 1, 1, 1, 1, 1, 1, 1, 1, 1, 1, 1, 1, 1, 1, 1,\n",
       "       1, 1, 1, 1, 1, 1, 1, 1, 1, 1, 1, 1, 1, 1, 1, 1, 1, 1, 1, 1, 1, 1,\n",
       "       1, 1, 1, 1, 1, 1, 1, 1, 1, 1, 1, 1, 1, 1, 1, 1, 0, 1, 1, 1, 1, 1,\n",
       "       1, 1, 1, 1, 1, 1, 1, 1, 1, 1, 1, 1, 1, 1, 1, 0, 1, 1, 1, 1, 1, 1,\n",
       "       1, 1, 1, 1, 1, 1, 1, 1, 1, 1, 1, 1, 1, 1, 1, 1, 1, 1, 1, 0, 1, 1,\n",
       "       1, 1, 1, 1, 1, 1, 1, 1, 1, 1, 1, 1, 1, 1, 1, 1, 1, 1, 1, 1, 1, 1,\n",
       "       1, 1, 1, 1, 1, 1, 1, 1, 1, 1, 1, 1, 1, 1, 1, 1, 1, 1, 1, 0, 1, 1,\n",
       "       1, 1, 1, 1, 1, 1, 1, 1, 0, 1, 1, 1, 1, 1, 1, 1, 1, 1, 1, 1, 1, 1,\n",
       "       1, 1, 1, 0, 1, 1, 1, 1, 1, 1, 1, 1, 1, 1, 1, 1, 1, 1, 1, 1, 1, 1,\n",
       "       1, 1, 1, 1, 1, 1, 1, 1, 1, 1, 1, 1, 1, 1, 1, 1, 1, 1, 1, 1, 1, 1,\n",
       "       1, 1, 1, 1, 1, 1, 1, 1, 0, 1, 1, 1, 1, 1, 1, 1, 1, 1, 1, 1, 1, 1,\n",
       "       1, 1, 1, 1, 1, 1, 1, 1, 1, 1, 1, 1, 1, 1, 1, 1, 0, 1, 1, 1, 1, 1,\n",
       "       1, 1, 1, 1, 1, 1, 1, 1, 1, 1, 1, 1, 1, 1, 1, 1, 1, 1, 1, 1, 1, 1,\n",
       "       1, 0, 1, 1, 1, 1, 1, 1, 0, 1, 1, 1, 1, 1, 1, 1, 1, 1, 1, 1, 1, 1,\n",
       "       0, 1, 1, 1, 1, 1, 1, 1, 1, 1, 1, 1, 1, 1, 1, 1, 1, 1, 1, 1, 1, 1,\n",
       "       1, 1, 1, 1, 1, 1])"
      ]
     },
     "execution_count": 222,
     "metadata": {},
     "output_type": "execute_result"
    }
   ],
   "source": [
    "#Making a prediction\n",
    "y_pred_g = gradient.predict(X_test)\n",
    "y_pred_g"
   ]
  },
  {
   "cell_type": "code",
   "execution_count": 225,
   "metadata": {
    "colab": {
     "base_uri": "https://localhost:8080/",
     "height": 34
    },
    "colab_type": "code",
    "id": "LlLwWvn9NmpR",
    "outputId": "8172f6b9-3056-46f6-f1ea-9770ce6db6af"
   },
   "outputs": [
    {
     "name": "stdout",
     "output_type": "stream",
     "text": [
      "gradient_Accuracy score is : 99.13494809688581\n"
     ]
    }
   ],
   "source": [
    "#Check the accuracy score of the gradient model\n",
    "print(\"gradient_Accuracy score is :\",metrics.accuracy_score(y_test, y_pred_g)*100)"
   ]
  },
  {
   "cell_type": "code",
   "execution_count": 224,
   "metadata": {
    "colab": {
     "base_uri": "https://localhost:8080/",
     "height": 51
    },
    "colab_type": "code",
    "id": "p0QCuPYLOn-o",
    "outputId": "405093b1-539e-42d4-ad8f-6c1094e04f21"
   },
   "outputs": [
    {
     "data": {
      "text/plain": [
       "array([[ 22,   2],\n",
       "       [  3, 551]], dtype=int64)"
      ]
     },
     "execution_count": 224,
     "metadata": {},
     "output_type": "execute_result"
    }
   ],
   "source": [
    "# Calculate a confusion matrix to identify what patients were predicted to be negative or have hypothyroid\n",
    "confusion = confusion_matrix(y_test,y_pred_g)\n",
    "confusion"
   ]
  },
  {
   "cell_type": "raw",
   "metadata": {
    "colab_type": "text",
    "id": "I0FOGzQrN8RI"
   },
   "source": [
    "\n",
    "Findings\n",
    "\n",
    "*   The accuracy score of the model increased to 99.13%.\n",
    "*   The model predicted correctly 551 patients were negative and  19 patients had hypothyroid \n",
    "*   In this case, we can use the gradient boosting classifier model compared to random forest as it's perfomance increased.\n"
   ]
  },
  {
   "cell_type": "code",
   "execution_count": 242,
   "metadata": {},
   "outputs": [
    {
     "name": "stdout",
     "output_type": "stream",
     "text": [
      "Accuracy: 98.09688581314879\n"
     ]
    }
   ],
   "source": [
    "ada_boost = AdaBoostClassifier(DecisionTreeClassifier(max_depth=4),\n",
    "                          n_estimators=300, random_state=101)\n",
    "\n",
    "ada_boost = ada_boost.fit(X_train, y_train)\n",
    "ada_pred = ada_boost.predict(X_test)\n",
    "\n",
    "# checking the accuracy\n",
    "print(\"Accuracy:\",metrics.accuracy_score(y_test, ada_pred)*100)"
   ]
  },
  {
   "cell_type": "raw",
   "metadata": {},
   "source": [
    "Ada boost was had the best perfomance in predicting"
   ]
  },
  {
   "cell_type": "markdown",
   "metadata": {
    "colab_type": "text",
    "id": "wUBHc0hwPdFu"
   },
   "source": [
    "# SVM(Support Vector Machine)\n"
   ]
  },
  {
   "cell_type": "code",
   "execution_count": 226,
   "metadata": {
    "colab": {},
    "colab_type": "code",
    "id": "PvcPVYfpN5jR"
   },
   "outputs": [],
   "source": [
    "\n",
    "svm  = SVC(kernel = 'linear',C=1.0,gamma='auto',random_state=101)\n",
    "\n",
    "#SVM after parameter tuning. RBf is used to increase the dimension\n",
    "svm_rbf = SVC(kernel = 'rbf',C=1.0,gamma='auto',random_state=0)\n",
    "\n",
    "#SVM after parameter tuning. Sigmoid is used to increase the dimension\n",
    "clf = SVC(kernel = 'sigmoid',C=1.0,gamma='auto',random_state=0)\n"
   ]
  },
  {
   "cell_type": "code",
   "execution_count": 227,
   "metadata": {
    "colab": {
     "base_uri": "https://localhost:8080/",
     "height": 85
    },
    "colab_type": "code",
    "id": "p8ffngdUQPgv",
    "outputId": "0097bdcd-8edf-465f-bce3-96ecd557896c"
   },
   "outputs": [
    {
     "data": {
      "text/plain": [
       "SVC(C=1.0, cache_size=200, class_weight=None, coef0=0.0,\n",
       "    decision_function_shape='ovr', degree=3, gamma='auto', kernel='sigmoid',\n",
       "    max_iter=-1, probability=False, random_state=0, shrinking=True, tol=0.001,\n",
       "    verbose=False)"
      ]
     },
     "execution_count": 227,
     "metadata": {},
     "output_type": "execute_result"
    }
   ],
   "source": [
    "#  fitting the train into the model\n",
    "\n",
    "#For linear\n",
    "svm.fit(X_train,y_train)\n",
    "\n",
    "#For rbf\n",
    "svm_rbf.fit(X_train,y_train)\n",
    "\n",
    "#For sigmoid\n",
    "clf.fit(X_train,y_train)"
   ]
  },
  {
   "cell_type": "code",
   "execution_count": 228,
   "metadata": {
    "colab": {},
    "colab_type": "code",
    "id": "Ygw-MTpKQTh_"
   },
   "outputs": [],
   "source": [
    "# Now that we have trained our model, let's test how well it can predict if a patient is negattive or positive for hypothyroid\n",
    "\n",
    "#Making predictions for linear\n",
    "y_pred_svc = svm.predict(X_test)\n",
    "\n",
    "#Making predictions for rbf\n",
    "y_pred_rbf = svm_rbf.predict(X_test)\n",
    "\n",
    "#Making predictions with parameter tuning\n",
    "y_pred1 = clf.predict(X_test)"
   ]
  },
  {
   "cell_type": "code",
   "execution_count": 230,
   "metadata": {
    "colab": {
     "base_uri": "https://localhost:8080/",
     "height": 68
    },
    "colab_type": "code",
    "id": "U_eTOucKQqW2",
    "outputId": "bb1aee9c-ba94-4337-ebe8-8d8ed7ecb598"
   },
   "outputs": [
    {
     "name": "stdout",
     "output_type": "stream",
     "text": [
      "Accuracy with linear kernel: 98.78892733564014\n",
      "Accuracy with rbf kernel :  98.6159169550173\n",
      "Accuracy with sigmoid kernel :  98.44290657439446\n"
     ]
    }
   ],
   "source": [
    "#Check accuracy of model before setting any parameters\n",
    "print(\"Accuracy with linear kernel:\",metrics.accuracy_score(y_test, y_pred_svc)*100)\n",
    "\n",
    "#Accuracy score using rbf function\n",
    "print(\"Accuracy with rbf kernel : \", accuracy_score(y_test,y_pred_rbf)*100)\n",
    "\n",
    "#Accuracy score using sigmoid function\n",
    "print(\"Accuracy with sigmoid kernel : \", accuracy_score(y_test,y_pred)*100)"
   ]
  },
  {
   "cell_type": "raw",
   "metadata": {
    "colab_type": "text",
    "id": "2K0oZu_XREs3"
   },
   "source": [
    "\n",
    "Findings\n",
    "\n",
    "*   The accuracy score of models was 98.8%, 98.6% and 98.4% for linear, rbf and sigmoid  respectively. This is an improvement from the previous models. \n"
   ]
  },
  {
   "cell_type": "markdown",
   "metadata": {
    "colab_type": "text",
    "id": "coDQGwMjVc0V"
   },
   "source": [
    "# Further questions\n"
   ]
  },
  {
   "cell_type": "raw",
   "metadata": {},
   "source": [
    "\n",
    "*   Could our model accuracy be affected by the fact that makority of the patient's entries had negative results."
   ]
  },
  {
   "cell_type": "markdown",
   "metadata": {
    "colab_type": "text",
    "id": "_PbldDYBWSmG"
   },
   "source": [
    "# Challenges\n"
   ]
  },
  {
   "cell_type": "code",
   "execution_count": null,
   "metadata": {},
   "outputs": [],
   "source": [
    "*   Despite using different classification models, differences between the model accuracy was very minimal.\n"
   ]
  }
 ],
 "metadata": {
  "colab": {
   "collapsed_sections": [],
   "name": "_Moringa_Data_Science_Core_W8_Independent_Project_2020_07_Leah_Mbugua.ipynb",
   "provenance": [],
   "toc_visible": true
  },
  "kernelspec": {
   "display_name": "Python 3",
   "language": "python",
   "name": "python3"
  },
  "language_info": {
   "codemirror_mode": {
    "name": "ipython",
    "version": 3
   },
   "file_extension": ".py",
   "mimetype": "text/x-python",
   "name": "python",
   "nbconvert_exporter": "python",
   "pygments_lexer": "ipython3",
   "version": "3.7.4"
  }
 },
 "nbformat": 4,
 "nbformat_minor": 1
}
